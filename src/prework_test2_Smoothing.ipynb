{
 "cells": [
  {
   "cell_type": "markdown",
   "metadata": {},
   "source": [
    "# 2 Smooth\n",
    "- joint bilateral filter\n",
    "- guided image Filter"
   ]
  },
  {
   "cell_type": "code",
   "execution_count": 1,
   "metadata": {},
   "outputs": [],
   "source": [
    "# -*- encoding: utf-8 -*-\n",
    "import sys\n",
    "import cv2\n",
    "import numpy as np\n",
    "%matplotlib inline\n",
    "import matplotlib.pyplot as plt\n",
    "\n",
    "# env: windows\n",
    "PATH_IMAGE = 'D:\\\\My_Data\\\\me_Docs\\\\Masterarbeit\\\\master_border_extraction\\\\images\\\\test1.png'\n",
    "img_origin_color = cv2.imread(PATH_IMAGE, cv2.IMREAD_COLOR)  # color image\n",
    "img_origin_gray = cv2.imread(PATH_IMAGE, cv2.IMREAD_GRAYSCALE) # gray image"
   ]
  },
  {
   "cell_type": "markdown",
   "metadata": {},
   "source": [
    "- bilateralFilter()"
   ]
  },
  {
   "cell_type": "code",
   "execution_count": 2,
   "metadata": {},
   "outputs": [],
   "source": [
    "img_gray_bilat = cv2.bilateralFilter(img_origin_gray, d=5, sigmaColor=20, sigmaSpace=20)\n",
    "\n",
    "cv2.namedWindow('gray_bilat', cv2.WINDOW_NORMAL)\n",
    "cv2.imshow('gray_bilat', img_gray_bilat)\n",
    "\n",
    "# waiting for key event\n",
    "cv2.waitKey(0)\n",
    "# destroying all windows\n",
    "cv2.destroyAllWindows()"
   ]
  },
  {
   "cell_type": "markdown",
   "metadata": {},
   "source": [
    "- jointBilateralFilter()"
   ]
  },
  {
   "cell_type": "code",
   "execution_count": 4,
   "metadata": {},
   "outputs": [],
   "source": [
    "# gauss filter is used as guided image(joint)\n",
    "img_gauss = cv2.GaussianBlur(img_origin_gray, ksize=(5, 5), sigmaX=1)\n",
    "img_gray_joint_bilat = cv2.ximgproc.jointBilateralFilter(img_gauss, img_origin_gray, d=5, sigmaColor=10, sigmaSpace=5)\n",
    "\n",
    "cv2.namedWindow('gray_joint_bilat', cv2.WINDOW_NORMAL)\n",
    "cv2.imshow('gray_joint_bilat', img_gray_joint_bilat)\n",
    "\n",
    "# waiting for key event\n",
    "cv2.waitKey(0)\n",
    "# destroying all windows\n",
    "cv2.destroyAllWindows()"
   ]
  },
  {
   "cell_type": "markdown",
   "metadata": {},
   "source": [
    "- GuidedFilter.filter()"
   ]
  },
  {
   "cell_type": "code",
   "execution_count": 8,
   "metadata": {},
   "outputs": [],
   "source": [
    "img_gray_guided = cv2.ximgproc.guidedFilter(guide=img_origin_color, \n",
    "                                            src=img_origin_gray,\n",
    "                                            radius=10,\n",
    "                                            eps=2)\n",
    "\n",
    "cv2.namedWindow('gray_guided', cv2.WINDOW_NORMAL)\n",
    "cv2.imshow('gray_guided', img_gray_guided)\n",
    "\n",
    "# waiting for key event\n",
    "cv2.waitKey(0)\n",
    "# destroying all windows\n",
    "cv2.destroyAllWindows()"
   ]
  }
 ],
 "metadata": {
  "kernelspec": {
   "display_name": "Python 3.9.11 ('kitma': venv)",
   "language": "python",
   "name": "python3"
  },
  "language_info": {
   "codemirror_mode": {
    "name": "ipython",
    "version": 3
   },
   "file_extension": ".py",
   "mimetype": "text/x-python",
   "name": "python",
   "nbconvert_exporter": "python",
   "pygments_lexer": "ipython3",
   "version": "3.9.11"
  },
  "orig_nbformat": 4,
  "vscode": {
   "interpreter": {
    "hash": "463793bc9e1e9a58e8cafb277c4e2d1a0246c1b12e6a20c09fb9ac2fbdfa6020"
   }
  }
 },
 "nbformat": 4,
 "nbformat_minor": 2
}
