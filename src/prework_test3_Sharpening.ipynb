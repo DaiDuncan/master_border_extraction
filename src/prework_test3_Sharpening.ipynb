{
 "cells": [
  {
   "cell_type": "markdown",
   "metadata": {},
   "source": [
    "# 3 Scharpening\n",
    "- color: \n",
    "    - V in HSV\n",
    "    - Y in YCbCr\n",
    "- grayscale"
   ]
  },
  {
   "cell_type": "code",
   "execution_count": null,
   "metadata": {},
   "outputs": [],
   "source": []
  }
 ],
 "metadata": {
  "kernelspec": {
   "display_name": "Python 3.9.11 ('kitma': venv)",
   "language": "python",
   "name": "python3"
  },
  "language_info": {
   "name": "python",
   "version": "3.9.11"
  },
  "orig_nbformat": 4,
  "vscode": {
   "interpreter": {
    "hash": "463793bc9e1e9a58e8cafb277c4e2d1a0246c1b12e6a20c09fb9ac2fbdfa6020"
   }
  }
 },
 "nbformat": 4,
 "nbformat_minor": 2
}
